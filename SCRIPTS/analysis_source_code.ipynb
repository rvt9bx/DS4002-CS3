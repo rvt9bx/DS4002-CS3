{
 "cells": [
  {
   "cell_type": "code",
   "execution_count": 2,
   "metadata": {
    "colab": {
     "base_uri": "https://localhost:8080/",
     "height": 384
    },
    "id": "lQyXtymHBwW8",
    "outputId": "d12378b8-4de3-490d-8680-fae064059192",
    "tags": []
   },
   "outputs": [],
   "source": [
    "# import packages\n",
    "import os\n",
    "import pandas as pd\n",
    "import nltk\n",
    "from nltk.sentiment.vader import SentimentIntensityAnalyzer\n",
    "import seaborn as sns\n",
    "from scipy.stats import spearmanr\n"
   ]
  },
  {
   "cell_type": "markdown",
   "metadata": {},
   "source": [
    "# Importing Data"
   ]
  },
  {
   "cell_type": "code",
   "execution_count": 7,
   "metadata": {},
   "outputs": [],
   "source": [
    "# change to main folder (change file path as necessary)\n",
    "os.chdir(\"c:\\\\Users\\\\ellie\\\\OneDrive\\\\Documents\\\\spring 2025\\\\ds4002\\\\DS4002-CS3\")\n",
    "\n",
    "# import restaurant data (change file path as necessary)\n",
    "restaurant_df = pd.read_csv('DATA/philly_restaurants.csv')\n",
    "\n",
    "# import review data (change file path as necessary)\n",
    "review_df = pd.read_csv('DATA/philly_reviews.csv')"
   ]
  },
  {
   "cell_type": "markdown",
   "metadata": {
    "tags": []
   },
   "source": [
    "# VADER Sentiment Analysis"
   ]
  },
  {
   "cell_type": "code",
   "execution_count": null,
   "metadata": {
    "colab": {
     "base_uri": "https://localhost:8080/",
     "height": 384
    },
    "id": "lQyXtymHBwW8",
    "outputId": "d12378b8-4de3-490d-8680-fae064059192",
    "tags": []
   },
   "outputs": [],
   "source": [
    "# Install and download VADER lexicon\n",
    "nltk.download('vader_lexicon')\n",
    "\n",
    "# Ensure relevant columns exist \n",
    "review_df = review_df[['text', 'review_id','business_id']].dropna()\n",
    "\n",
    "# Initialize VADER sentiment analyzer\n",
    "analyzer = SentimentIntensityAnalyzer()\n",
    "\n",
    "# Function to comput sentiment score for each review\n",
    "def get_sentiment(text):\n",
    "    \"\"\"Compute sentiment compound score for a given review.\"\"\"\n",
    "    return analyzer.polarity_scores(text)['compound']\n",
    "\n",
    "# Apply sentiment analysis\n",
    "review_df['sentiment_score'] = review_df['text'].apply(get_sentiment)\n",
    "\n",
    "# Group by business_id and calculate mean sentiment\n",
    "grouped = review_df.groupby('business_id')['sentiment_score'].mean().reset_index()"
   ]
  },
  {
   "cell_type": "markdown",
   "metadata": {},
   "source": [
    "# Correlation Analysis"
   ]
  },
  {
   "cell_type": "code",
   "execution_count": null,
   "metadata": {},
   "outputs": [],
   "source": [
    "# Merge restaurant data with review sentiment data\n",
    "df = restaurant_df.merge(grouped, how='outer', on='business_id')"
   ]
  },
  {
   "cell_type": "code",
   "execution_count": null,
   "metadata": {},
   "outputs": [],
   "source": [
    "# Make boxplot visualization to compare price and sentiment\n",
    "\n",
    "fig, ax = plt.subplots(figsize=(8, 6))  # Assigns an Axes object\n",
    "\n",
    "# Boxplot\n",
    "sns.boxplot(x='price_level', y='sentiment_score', data=df, palette='pastel', ax=ax)\n",
    "\n",
    "# Set title and labels on the Axes object\n",
    "ax.set_title('Sentiment Scores by Restaurant Price Level')\n",
    "ax.set_xlabel('Price Level')\n",
    "ax.set_ylabel('Sentiment Score')\n",
    "\n",
    "plt.show()"
   ]
  },
  {
   "cell_type": "code",
   "execution_count": null,
   "metadata": {},
   "outputs": [],
   "source": [
    "# Calculate Spearman correlation (https://docs.scipy.org/doc/scipy/reference/generated/scipy.stats.spearmanr.html)\n",
    "corr, p_value = spearmanr(df['price_level'], df['sentiment_score'])\n",
    "\n",
    "# Print results\n",
    "print(f\"Spearman Correlation: {corr:.3f}\")\n",
    "print(f\"P-Value: {p_value:.5f}\")"
   ]
  }
 ],
 "metadata": {
  "colab": {
   "provenance": []
  },
  "kernelspec": {
   "display_name": "Python 3 (ipykernel)",
   "language": "python",
   "name": "python3"
  },
  "language_info": {
   "codemirror_mode": {
    "name": "ipython",
    "version": 3
   },
   "file_extension": ".py",
   "mimetype": "text/x-python",
   "name": "python",
   "nbconvert_exporter": "python",
   "pygments_lexer": "ipython3",
   "version": "3.12.6"
  }
 },
 "nbformat": 4,
 "nbformat_minor": 4
}
